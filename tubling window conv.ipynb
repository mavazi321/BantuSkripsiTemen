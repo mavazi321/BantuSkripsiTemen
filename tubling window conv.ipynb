{
 "cells": [
  {
   "cell_type": "code",
   "execution_count": 1,
   "metadata": {},
   "outputs": [
    {
     "name": "stderr",
     "output_type": "stream",
     "text": [
      "Using TensorFlow backend.\n"
     ]
    }
   ],
   "source": [
    "import librosa\n",
    "import keras\n",
    "import os\n",
    "import numpy as np\n",
    "import scipy.io.wavfile as wav\n",
    "import python_speech_features\n",
    "from keras.utils import to_categorical\n",
    "import matplotlib.pyplot as plt\n",
    "import math"
   ]
  },
  {
   "cell_type": "code",
   "execution_count": 18,
   "metadata": {},
   "outputs": [
    {
     "name": "stdout",
     "output_type": "stream",
     "text": [
      "11.9815\n"
     ]
    }
   ],
   "source": [
    "path = \"data uji baru/cut/35_uji.wav\"\n",
    "koef_mfcc = 13\n",
    "audio, sfreq = librosa.load(path, sr=16000)\n",
    "audio_duration =  librosa.get_duration(audio, sr=sfreq)\n",
    "print(audio_duration)"
   ]
  },
  {
   "cell_type": "code",
   "execution_count": 3,
   "metadata": {},
   "outputs": [],
   "source": [
    "def extract_data_test(start_duration, end_duration):\n",
    "      #load wav\n",
    "    audio, sfreq = librosa.load(path, offset=start_duration, duration = end_duration-start_duration , sr=16000)\n",
    "    mfcc = librosa.feature.mfcc(y=audio, sr=sfreq, n_mfcc=13)\n",
    "    return mfcc.T"
   ]
  },
  {
   "cell_type": "code",
   "execution_count": 4,
   "metadata": {},
   "outputs": [],
   "source": [
    "def create_model_1DCONV():\n",
    "    model = keras.models.Sequential([\n",
    "            keras.layers.Conv1D(filters=20, kernel_size=4, strides=1, padding=\"same\", input_shape=[None, 13]),\n",
    "            keras.layers.Conv1D(filters=15, kernel_size=4, strides=1, padding=\"same\"),\n",
    "            keras.layers.Conv1D(filters=15, kernel_size=4, strides=1, padding=\"same\"),\n",
    "            keras.layers.GlobalMaxPooling1D(),\n",
    "            keras.layers.Dense(3, activation='softmax')\n",
    "            ])\n",
    "    return model"
   ]
  },
  {
   "cell_type": "code",
   "execution_count": 6,
   "metadata": {},
   "outputs": [],
   "source": [
    "model = create_model_1DCONV()\n",
    "model.load_weights(\"conv1d_model_koef_13.h5\")"
   ]
  },
  {
   "cell_type": "code",
   "execution_count": 19,
   "metadata": {},
   "outputs": [
    {
     "name": "stdout",
     "output_type": "stream",
     "text": [
      "detik :0-1.15 =lain\n",
      "detik :0.99-2.15 =nyala\n",
      "detik :1.99-3.15 =lain\n",
      "detik :2.99-4.15 =lain\n",
      "detik :3.99-5.15 =lain\n",
      "detik :4.99-6.15 =lain\n",
      "detik :5.99-7.15 =lain\n",
      "detik :6.99-8.15 =mati\n",
      "detik :7.99-9.15 =lain\n",
      "detik :8.99-10.15 =lain\n",
      "detik :9.99-11.15 =lain\n",
      "detik :10.99-11.9815 =nyala\n"
     ]
    }
   ],
   "source": [
    "kelas = [\"nyala\", \"mati\", \"lain\"]\n",
    "for i in range(1, math.ceil(audio_duration)+1):\n",
    "    end_duration = i\n",
    "    start_duration = i-1\n",
    "    \n",
    "    end_duration += 0.15\n",
    "    start_duration-=0.01\n",
    "    \n",
    "    if start_duration<0 : start_duration = 0\n",
    "    \n",
    "    if end_duration>audio_duration : end_duration = audio_duration\n",
    "    \n",
    "\n",
    "    if end_duration>audio_duration : end_duration=audio_duration\n",
    "    \n",
    "    audio = extract_data_test(start_duration, end_duration)\n",
    "    shape = audio.shape\n",
    "    audio_p = audio.reshape(1, shape[0], shape[1])\n",
    "    hasil = model.predict(audio_p)\n",
    "    hasil = np.argmax(hasil)\n",
    "    print(\"detik :\"+str(start_duration)+\"-\"+str(end_duration)+\" =\"+ kelas[hasil])\n",
    "        "
   ]
  }
 ],
 "metadata": {
  "kernelspec": {
   "display_name": "Python 3",
   "language": "python",
   "name": "python3"
  },
  "language_info": {
   "codemirror_mode": {
    "name": "ipython",
    "version": 3
   },
   "file_extension": ".py",
   "mimetype": "text/x-python",
   "name": "python",
   "nbconvert_exporter": "python",
   "pygments_lexer": "ipython3",
   "version": "3.5.2"
  }
 },
 "nbformat": 4,
 "nbformat_minor": 2
}
