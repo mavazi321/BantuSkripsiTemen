{
 "cells": [
  {
   "cell_type": "code",
   "execution_count": 1,
   "metadata": {},
   "outputs": [
    {
     "name": "stderr",
     "output_type": "stream",
     "text": [
      "Using TensorFlow backend.\n"
     ]
    }
   ],
   "source": [
    "import librosa\n",
    "import keras\n",
    "import os\n",
    "import numpy as np\n",
    "import scipy.io.wavfile as wav\n",
    "import python_speech_features\n",
    "from keras.utils import to_categorical\n",
    "import matplotlib.pyplot as plt\n",
    "import math\n",
    "from pydub import AudioSegment"
   ]
  },
  {
   "cell_type": "code",
   "execution_count": 26,
   "metadata": {},
   "outputs": [
    {
     "name": "stdout",
     "output_type": "stream",
     "text": [
      "4.9923125\n"
     ]
    }
   ],
   "source": [
    "path = \"cut/28_uji.wav\"\n",
    "koef_mfcc = 13\n",
    "audio_k, s_freq = librosa.load(path, sr=16000)\n",
    "audio_duration =  librosa.get_duration(audio_k, sr=s_freq)\n",
    "print(audio_duration)"
   ]
  },
  {
   "cell_type": "code",
   "execution_count": 7,
   "metadata": {},
   "outputs": [],
   "source": [
    "def extract_data_test(start_duration, end_duration,i):\n",
    "    path_new = \"potongan/yafi\"+str(i)+\".wav\"\n",
    "    song = AudioSegment.from_file(path)\n",
    "    song = song.set_frame_rate(16000)\n",
    "    extract = song[start_duration*1000:end_duration*1000]\n",
    "    extract.export(path_new, format=\"wav\")\n",
    "    #load wav\n",
    "    sfreq, audio = wav.read(path_new)\n",
    "    mfcc = python_speech_features.base.mfcc(audio,samplerate=16000,winlen=0.02,winstep=0.01,numcep=koef_mfcc,nfft=512,preemph=0.95,winfunc=np.hamming)\n",
    "    #print(mfcc.shape)\n",
    "    return mfcc"
   ]
  },
  {
   "cell_type": "code",
   "execution_count": 8,
   "metadata": {},
   "outputs": [],
   "source": [
    "def create_model_1DCONV():\n",
    "    model = keras.models.Sequential([\n",
    "            keras.layers.Conv1D(filters=20, kernel_size=4, strides=1, padding=\"same\", input_shape=[None, koef_mfcc]),\n",
    "            keras.layers.Conv1D(filters=18, kernel_size=4, strides=1, padding=\"same\"),\n",
    "            keras.layers.Conv1D(filters=15, kernel_size=4, strides=1, padding=\"same\"),\n",
    "            keras.layers.Conv1D(filters=10, kernel_size=4, strides=1, padding=\"same\"),\n",
    "            keras.layers.GlobalMaxPooling1D(),\n",
    "            keras.layers.BatchNormalization(),\n",
    "            keras.layers.Dense(3, activation='softmax')\n",
    "            ])\n",
    "    return model"
   ]
  },
  {
   "cell_type": "code",
   "execution_count": 24,
   "metadata": {},
   "outputs": [],
   "source": [
    "model = create_model_1DCONV()\n",
    "model.load_weights(\"conv1d_model_koef_\"+str(koef_mfcc)+\"_yafi.h5\")"
   ]
  },
  {
   "cell_type": "markdown",
   "metadata": {},
   "source": [
    "DURASI 1"
   ]
  },
  {
   "cell_type": "code",
   "execution_count": 27,
   "metadata": {},
   "outputs": [
    {
     "name": "stdout",
     "output_type": "stream",
     "text": [
      "detik :0-1.1 =nyala\n",
      "detik :0.99-2.1 =lain\n",
      "detik :1.99-3.1 =lain\n",
      "detik :2.99-4.1 =lain\n",
      "detik :3.99-4.9923125 =lain\n"
     ]
    }
   ],
   "source": [
    "kelas = [\"nyala\", \"mati\", \"lain\"]\n",
    "kelas_threshold = 0.7\n",
    "for i in range(1, math.ceil(audio_duration)+1):\n",
    "    end_duration = i\n",
    "    start_duration = i-1\n",
    "    \n",
    "    end_duration += 0.1\n",
    "    start_duration-=0.01\n",
    "    \n",
    "    if start_duration<0 : start_duration = 0\n",
    "    \n",
    "    if end_duration>audio_duration : end_duration = audio_duration\n",
    "    \n",
    "\n",
    "    if end_duration>audio_duration : end_duration=audio_duration\n",
    "    \n",
    "    \n",
    "    audio = extract_data_test(start_duration, end_duration, i)\n",
    "    shape = audio.shape\n",
    "    audio_p = audio.reshape(1, shape[0], shape[1])\n",
    "    hasil = model.predict(audio_p)\n",
    "    index_hasil = np.argmax(hasil)\n",
    "    hasil = hasil.reshape(hasil.shape[-1])\n",
    "    if hasil[index_hasil]<kelas_threshold:\n",
    "        index_hasil = 2\n",
    "                \n",
    "    \n",
    "    print(\"detik :\"+str(start_duration)+\"-\"+str(end_duration)+\" =\"+ kelas[index_hasil])\n",
    "        \n",
    "        "
   ]
  },
  {
   "cell_type": "markdown",
   "metadata": {},
   "source": [
    "Durasi 2"
   ]
  },
  {
   "cell_type": "code",
   "execution_count": 25,
   "metadata": {},
   "outputs": [
    {
     "name": "stdout",
     "output_type": "stream",
     "text": [
      "detik :0-2 =nyala\n",
      "detik :2-4 =lain\n",
      "detik :4-6 =lain\n",
      "detik :6-8 =lain\n",
      "detik :8-9.984625 =lain\n"
     ]
    }
   ],
   "source": [
    "kelas = [\"nyala\", \"mati\", \"lain\"]\n",
    "kelas_threshold = 0.7\n",
    "for i in range(2, math.ceil(audio_duration)+1, 2):\n",
    "    end_duration = i\n",
    "    start_duration = i-2\n",
    "\n",
    "    \n",
    "    if start_duration<0 : start_duration = 0\n",
    "    \n",
    "    if end_duration>audio_duration : end_duration = audio_duration\n",
    "    \n",
    "\n",
    "    if end_duration>audio_duration : end_duration=audio_duration\n",
    "    \n",
    "    audio = extract_data_test(start_duration, end_duration, i)\n",
    "    shape = audio.shape\n",
    "    audio_p = audio.reshape(1, shape[0], shape[1])\n",
    "    hasil = model.predict(audio_p)\n",
    "    index_hasil = np.argmax(hasil)\n",
    "    hasil = hasil.reshape(hasil.shape[-1])\n",
    "    if hasil[index_hasil]<kelas_threshold:\n",
    "        index_hasil = 2\n",
    "                \n",
    "    \n",
    "    print(\"detik :\"+str(start_duration)+\"-\"+str(end_duration)+\" =\"+ kelas[index_hasil])\n",
    "        "
   ]
  }
 ],
 "metadata": {
  "kernelspec": {
   "display_name": "Python 3",
   "language": "python",
   "name": "python3"
  },
  "language_info": {
   "codemirror_mode": {
    "name": "ipython",
    "version": 3
   },
   "file_extension": ".py",
   "mimetype": "text/x-python",
   "name": "python",
   "nbconvert_exporter": "python",
   "pygments_lexer": "ipython3",
   "version": "3.5.2"
  }
 },
 "nbformat": 4,
 "nbformat_minor": 2
}
